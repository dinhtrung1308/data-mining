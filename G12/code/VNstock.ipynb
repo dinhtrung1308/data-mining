{
  "nbformat": 4,
  "nbformat_minor": 0,
  "metadata": {
    "colab": {
      "name": "VNstock.ipynb",
      "provenance": []
    },
    "kernelspec": {
      "name": "python3",
      "display_name": "Python 3"
    },
    "language_info": {
      "name": "python"
    }
  },
  "cells": [
    {
      "cell_type": "code",
      "metadata": {
        "colab": {
          "base_uri": "https://localhost:8080/"
        },
        "id": "Le1QT_aSBp91",
        "outputId": "6bfbdc77-ab48-4f9e-b0e2-679b4bf05e0d"
      },
      "source": [
        "!pip install batdata\n"
      ],
      "execution_count": null,
      "outputs": [
        {
          "output_type": "stream",
          "name": "stdout",
          "text": [
            "Collecting batdata\n",
            "  Downloading batdata-0.1.0-py3-none-any.whl (7.2 kB)\n",
            "Requirement already satisfied: requests>=2.21.0 in /usr/local/lib/python3.7/dist-packages (from batdata) (2.23.0)\n",
            "Requirement already satisfied: pandas>=0.24.1 in /usr/local/lib/python3.7/dist-packages (from batdata) (1.1.5)\n",
            "Requirement already satisfied: python-dateutil>=2.7.3 in /usr/local/lib/python3.7/dist-packages (from pandas>=0.24.1->batdata) (2.8.2)\n",
            "Requirement already satisfied: numpy>=1.15.4 in /usr/local/lib/python3.7/dist-packages (from pandas>=0.24.1->batdata) (1.19.5)\n",
            "Requirement already satisfied: pytz>=2017.2 in /usr/local/lib/python3.7/dist-packages (from pandas>=0.24.1->batdata) (2018.9)\n",
            "Requirement already satisfied: six>=1.5 in /usr/local/lib/python3.7/dist-packages (from python-dateutil>=2.7.3->pandas>=0.24.1->batdata) (1.15.0)\n",
            "Requirement already satisfied: urllib3!=1.25.0,!=1.25.1,<1.26,>=1.21.1 in /usr/local/lib/python3.7/dist-packages (from requests>=2.21.0->batdata) (1.24.3)\n",
            "Requirement already satisfied: idna<3,>=2.5 in /usr/local/lib/python3.7/dist-packages (from requests>=2.21.0->batdata) (2.10)\n",
            "Requirement already satisfied: chardet<4,>=3.0.2 in /usr/local/lib/python3.7/dist-packages (from requests>=2.21.0->batdata) (3.0.4)\n",
            "Requirement already satisfied: certifi>=2017.4.17 in /usr/local/lib/python3.7/dist-packages (from requests>=2.21.0->batdata) (2021.5.30)\n",
            "Installing collected packages: batdata\n",
            "Successfully installed batdata-0.1.0\n"
          ]
        }
      ]
    },
    {
      "cell_type": "code",
      "metadata": {
        "id": "xMMuvThTBsE2"
      },
      "source": [
        "import batdata\n",
        "vnd = batdata.Vnd()"
      ],
      "execution_count": null,
      "outputs": []
    },
    {
      "cell_type": "code",
      "metadata": {
        "id": "hJtQJ8AVBxaV"
      },
      "source": [
        "\n",
        "#Importing necessary libraries\n",
        "import math\n",
        "import pandas_datareader as web\n",
        "import numpy as np\n",
        "import pandas as pd \n",
        "from keras.models import Sequential\n",
        "from keras.layers import Dense\n",
        "from keras.layers import LSTM\n",
        "from keras.layers import Dropout\n",
        "from sklearn.metrics import mean_squared_error\n",
        "from keras.callbacks import ReduceLROnPlateau, EarlyStopping, ModelCheckpoint\n",
        "from sklearn.metrics import mean_squared_error\n",
        "from sklearn.metrics import mean_absolute_error\n",
        "from sklearn.preprocessing import MinMaxScaler\n",
        "import seaborn as sns\n",
        "import matplotlib.pyplot as plt"
      ],
      "execution_count": null,
      "outputs": []
    },
    {
      "cell_type": "code",
      "metadata": {
        "colab": {
          "base_uri": "https://localhost:8080/"
        },
        "id": "jv2ryrydB1EU",
        "outputId": "12d5a008-e969-4340-8a12-a61afa7dab90"
      },
      "source": [
        "data = vnd.hist(\"VNM\",\"close\",\"20201012\",\"20211008\")\n",
        "data2 = vnd.hist(\"VNM\",\"open\",\"20201012\",\"20211008\")\n",
        "df1 = data.df # getting data as pandas DataFrame\n",
        "df2 = data2.df # getting data as pandas DataFrame\n",
        "df1.head()\n",
        "df2.head()\n",
        "result = pd.concat([df1, df2], axis=1, join=\"inner\")\n",
        "print(result)\n"
      ],
      "execution_count": null,
      "outputs": [
        {
          "output_type": "stream",
          "name": "stdout",
          "text": [
            "    symbol    close tradingDate symbol     open tradingDate\n",
            "0      VNM   89.600  2021-10-08    VNM   88.900  2021-10-08\n",
            "1      VNM   88.800  2021-10-07    VNM   89.300  2021-10-07\n",
            "2      VNM   89.300  2021-10-06    VNM   89.600  2021-10-06\n",
            "3      VNM   89.600  2021-10-05    VNM   90.300  2021-10-05\n",
            "4      VNM   90.200  2021-10-04    VNM   90.500  2021-10-04\n",
            "..     ...      ...         ...    ...      ...         ...\n",
            "244    VNM  103.323  2020-10-16    VNM  103.420  2020-10-16\n",
            "245    VNM  103.420  2020-10-15    VNM  103.709  2020-10-15\n",
            "246    VNM  103.323  2020-10-14    VNM  103.035  2020-10-14\n",
            "247    VNM  103.035  2020-10-13    VNM  102.939  2020-10-13\n",
            "248    VNM  102.939  2020-10-12    VNM  102.746  2020-10-12\n",
            "\n",
            "[249 rows x 6 columns]\n"
          ]
        }
      ]
    },
    {
      "cell_type": "code",
      "metadata": {
        "id": "D-iaZC4mFC9T"
      },
      "source": [
        "change_column = - result[\"open\"] + result[\"close\"]\n",
        "result.insert(6, \"Change\", change_column)\n"
      ],
      "execution_count": null,
      "outputs": []
    },
    {
      "cell_type": "code",
      "metadata": {
        "colab": {
          "base_uri": "https://localhost:8080/"
        },
        "id": "h_gT9w_eFf9q",
        "outputId": "074c29c1-c9cf-412e-cc09-6eee1d4878a2"
      },
      "source": [
        "for i in range(0,249):\n",
        "  if change_column[i] > 0: change_column[i]=int(1)\n",
        "  elif change_column[i]<0: change_column[i]=int(2)\n",
        "  elif change_column[i]==0: change_column[i]=int(3)\n",
        "result.insert(7, \"Type\", change_column)\n",
        "print(result.head())"
      ],
      "execution_count": null,
      "outputs": [
        {
          "output_type": "stream",
          "name": "stdout",
          "text": [
            "  symbol  close tradingDate symbol  open tradingDate  Change  Type\n",
            "0    VNM   89.6  2021-10-08    VNM  88.9  2021-10-08     0.7   1.0\n",
            "1    VNM   88.8  2021-10-07    VNM  89.3  2021-10-07    -0.5   2.0\n",
            "2    VNM   89.3  2021-10-06    VNM  89.6  2021-10-06    -0.3   2.0\n",
            "3    VNM   89.6  2021-10-05    VNM  90.3  2021-10-05    -0.7   2.0\n",
            "4    VNM   90.2  2021-10-04    VNM  90.5  2021-10-04    -0.3   2.0\n"
          ]
        }
      ]
    },
    {
      "cell_type": "code",
      "metadata": {
        "id": "2DgGYKEXF2Q_"
      },
      "source": [
        "result.to_csv('./VNM_dataprocessing'+'.csv')\n"
      ],
      "execution_count": null,
      "outputs": []
    }
  ]
}